{
 "cells": [
  {
   "cell_type": "markdown",
   "id": "e915008f-0490-4428-9693-f024ab838512",
   "metadata": {},
   "source": [
    "# Methods and Functions\n",
    "## Methods and the Python Documentation"
   ]
  },
  {
   "cell_type": "code",
   "execution_count": 1,
   "id": "7bcfb876-75ea-4c62-bd83-64b02f181a9e",
   "metadata": {},
   "outputs": [],
   "source": [
    "mylist = [1,2,3]"
   ]
  },
  {
   "cell_type": "code",
   "execution_count": 2,
   "id": "69227525-7399-4b0c-8821-70b81fb11f9a",
   "metadata": {},
   "outputs": [
    {
     "name": "stdout",
     "output_type": "stream",
     "text": [
      "Help on built-in function insert:\n",
      "\n",
      "insert(index, object, /) method of builtins.list instance\n",
      "    Insert object before index.\n",
      "\n"
     ]
    }
   ],
   "source": [
    "help(mylist.insert)"
   ]
  },
  {
   "cell_type": "code",
   "execution_count": 3,
   "id": "7ad3645c-48d5-4ecb-baa6-adf582b3f4ac",
   "metadata": {},
   "outputs": [],
   "source": [
    "# You can use the Python documentation webpage as well - Library Ref = Standard Documentation"
   ]
  },
  {
   "cell_type": "markdown",
   "id": "dc462369-78af-42d9-8d1f-f1a1eb16906c",
   "metadata": {},
   "source": [
    "# Introduction to Functions"
   ]
  },
  {
   "cell_type": "markdown",
   "id": "58585ede-dbf4-4365-9c1e-e62f843aee6c",
   "metadata": {},
   "source": [
    "## Creating clean repeatable code is a key part of becoming an effective programmer.\n",
    "\n",
    "## Functions allow us to create blocks of code taht can be easily executed many times, without needing to constantly rewrite the entire block of code.\n",
    "\n",
    "## Functions will be a huge leap forward in your capabilites as a Python programmer.\n",
    "\n",
    "## This means that the problems you are able to solve can also be a lot harder!\n",
    "\n",
    "## It is very important to get practice combining everything you've learned so far (control flow, loops, ect.) with functions to become an effective programmer."
   ]
  },
  {
   "cell_type": "code",
   "execution_count": 4,
   "id": "c8e7e987-0406-4317-a117-00c6aff33d78",
   "metadata": {},
   "outputs": [],
   "source": [
    "# Creating a function requires a very specific syntax, including the def keyword,\n",
    "# correct indentation, and proper structure."
   ]
  },
  {
   "cell_type": "code",
   "execution_count": 6,
   "id": "3b366f88-2e8e-401c-82aa-e1780f6b02e4",
   "metadata": {},
   "outputs": [],
   "source": [
    "def name_of_function():\n",
    "    ''' \n",
    "    Docstring explains the function\n",
    "    '''\n",
    "    print(\"Hello\")"
   ]
  },
  {
   "cell_type": "code",
   "execution_count": 7,
   "id": "12aeba25-4b8e-4f5e-b787-d8178a212c68",
   "metadata": {},
   "outputs": [
    {
     "name": "stdout",
     "output_type": "stream",
     "text": [
      "Hello\n"
     ]
    }
   ],
   "source": [
    "name_of_function()"
   ]
  },
  {
   "cell_type": "code",
   "execution_count": 9,
   "id": "f999107d-4a2c-433c-9102-9b48655b0d7d",
   "metadata": {},
   "outputs": [],
   "source": [
    "def name_of_function(name):\n",
    "    print(\"Hello \"+name)\n"
   ]
  },
  {
   "cell_type": "code",
   "execution_count": 10,
   "id": "fd37573b-438f-4769-baad-298c7dc4f072",
   "metadata": {},
   "outputs": [
    {
     "name": "stdout",
     "output_type": "stream",
     "text": [
      "Hello Jose\n"
     ]
    }
   ],
   "source": [
    "name_of_function(\"Jose\")"
   ]
  },
  {
   "cell_type": "markdown",
   "id": "67360d6b-b582-4295-84eb-10cc9e429ca9",
   "metadata": {},
   "source": [
    "### Typically we use the return keyword to send back the result of the function instead of just printing it out.\n",
    "### return allows us to assign the out put of the function to a new variable."
   ]
  },
  {
   "cell_type": "code",
   "execution_count": 11,
   "id": "251f8c2d-2ddf-4cf3-9c17-442e78330195",
   "metadata": {},
   "outputs": [],
   "source": [
    "def say_hello():\n",
    "    print('how')\n",
    "    print('are')\n",
    "    print('you')"
   ]
  },
  {
   "cell_type": "code",
   "execution_count": 12,
   "id": "d5e41008-f97b-4fdb-9ecd-d999c6bccdc9",
   "metadata": {},
   "outputs": [
    {
     "name": "stdout",
     "output_type": "stream",
     "text": [
      "how\n",
      "are\n",
      "you\n"
     ]
    }
   ],
   "source": [
    "say_hello()"
   ]
  },
  {
   "cell_type": "code",
   "execution_count": 13,
   "id": "a7eb7436-9968-4089-a273-ffe44ce2f19a",
   "metadata": {},
   "outputs": [
    {
     "data": {
      "text/plain": [
       "<function __main__.say_hello()>"
      ]
     },
     "execution_count": 13,
     "metadata": {},
     "output_type": "execute_result"
    }
   ],
   "source": [
    "say_hello"
   ]
  },
  {
   "cell_type": "code",
   "execution_count": 14,
   "id": "547b0909-9b57-4a86-8ef2-d588c8d04234",
   "metadata": {},
   "outputs": [],
   "source": [
    "def say_hello(name):\n",
    "    print(f'Hello {name}')"
   ]
  },
  {
   "cell_type": "code",
   "execution_count": 16,
   "id": "0aae65d3-72ab-43b7-a0f2-f296d479903a",
   "metadata": {},
   "outputs": [
    {
     "name": "stdout",
     "output_type": "stream",
     "text": [
      "Hello Randy\n"
     ]
    }
   ],
   "source": [
    "say_hello(\"Randy\")"
   ]
  },
  {
   "cell_type": "code",
   "execution_count": 17,
   "id": "2934bd3b-7693-42cb-80a7-2f168d37b1d6",
   "metadata": {},
   "outputs": [
    {
     "ename": "TypeError",
     "evalue": "say_hello() missing 1 required positional argument: 'name'",
     "output_type": "error",
     "traceback": [
      "\u001b[0;31m---------------------------------------------------------------------------\u001b[0m",
      "\u001b[0;31mTypeError\u001b[0m                                 Traceback (most recent call last)",
      "\u001b[0;32m<ipython-input-17-faa5fc24272a>\u001b[0m in \u001b[0;36m<module>\u001b[0;34m\u001b[0m\n\u001b[0;32m----> 1\u001b[0;31m \u001b[0msay_hello\u001b[0m\u001b[0;34m(\u001b[0m\u001b[0;34m)\u001b[0m\u001b[0;34m\u001b[0m\u001b[0;34m\u001b[0m\u001b[0m\n\u001b[0m",
      "\u001b[0;31mTypeError\u001b[0m: say_hello() missing 1 required positional argument: 'name'"
     ]
    }
   ],
   "source": [
    "say_hello()"
   ]
  },
  {
   "cell_type": "code",
   "execution_count": 18,
   "id": "67c8f79c-d600-42a1-99f1-c81a0f983d21",
   "metadata": {},
   "outputs": [],
   "source": [
    "def say_hello(name = 'Default'):\n",
    "    print(f'Hello {name}')"
   ]
  },
  {
   "cell_type": "code",
   "execution_count": 19,
   "id": "1fbe183f-79bc-4a6f-b147-793aa51bf881",
   "metadata": {},
   "outputs": [
    {
     "name": "stdout",
     "output_type": "stream",
     "text": [
      "Hello Default\n"
     ]
    }
   ],
   "source": [
    "say_hello()"
   ]
  },
  {
   "cell_type": "code",
   "execution_count": 21,
   "id": "1818561f-27e7-4b37-a373-3773fe7ac762",
   "metadata": {},
   "outputs": [],
   "source": [
    "def add_num(num1,num2):\n",
    "    return num1+num2"
   ]
  },
  {
   "cell_type": "code",
   "execution_count": 23,
   "id": "6ec2ef4a-31fa-453b-99f1-c2546270887b",
   "metadata": {},
   "outputs": [],
   "source": [
    "result = add_num(10,20)"
   ]
  },
  {
   "cell_type": "code",
   "execution_count": 24,
   "id": "7c857ec0-f76f-4571-ac13-61efe42f4c5f",
   "metadata": {},
   "outputs": [
    {
     "data": {
      "text/plain": [
       "30"
      ]
     },
     "execution_count": 24,
     "metadata": {},
     "output_type": "execute_result"
    }
   ],
   "source": [
    "result"
   ]
  },
  {
   "cell_type": "code",
   "execution_count": 30,
   "id": "08a44009-c66f-4022-a080-2eb87abeea17",
   "metadata": {},
   "outputs": [],
   "source": [
    "def print_result(a,b):\n",
    "    print(a+b)"
   ]
  },
  {
   "cell_type": "code",
   "execution_count": 31,
   "id": "dc48f954-913e-40d8-a7a9-9ba116169eb8",
   "metadata": {},
   "outputs": [],
   "source": [
    "def return_result(a,b):\n",
    "    return a+b"
   ]
  },
  {
   "cell_type": "code",
   "execution_count": 26,
   "id": "e75291a4-2ec2-4805-a707-05256013519a",
   "metadata": {},
   "outputs": [
    {
     "name": "stdout",
     "output_type": "stream",
     "text": [
      "30\n"
     ]
    }
   ],
   "source": [
    "# this is only just printing the results not storing it\n",
    "result = print_result(10,20)"
   ]
  },
  {
   "cell_type": "code",
   "execution_count": 27,
   "id": "1b640ad9-1af8-40a2-83b5-864d680fe22f",
   "metadata": {},
   "outputs": [],
   "source": [
    "result"
   ]
  },
  {
   "cell_type": "code",
   "execution_count": 28,
   "id": "ccd9ef12-5c82-432b-be4e-31f02281561f",
   "metadata": {},
   "outputs": [
    {
     "data": {
      "text/plain": [
       "NoneType"
      ]
     },
     "execution_count": 28,
     "metadata": {},
     "output_type": "execute_result"
    }
   ],
   "source": [
    "type(result)"
   ]
  },
  {
   "cell_type": "code",
   "execution_count": 32,
   "id": "3c7c3856-8844-4185-a819-2228c61e9a91",
   "metadata": {},
   "outputs": [
    {
     "data": {
      "text/plain": [
       "30"
      ]
     },
     "execution_count": 32,
     "metadata": {},
     "output_type": "execute_result"
    }
   ],
   "source": [
    "# using return allows the function to be called\n",
    "return_result(10,20)"
   ]
  },
  {
   "cell_type": "code",
   "execution_count": 33,
   "id": "d5953f1a-b387-4259-98df-71a1f06c8c05",
   "metadata": {},
   "outputs": [],
   "source": [
    "# assigning a variable to the function using return allows usiing that variable again\n",
    "result = return_result(10,20)"
   ]
  },
  {
   "cell_type": "code",
   "execution_count": 34,
   "id": "26dafbea-30f1-4523-aec7-37a288f90e7a",
   "metadata": {},
   "outputs": [
    {
     "data": {
      "text/plain": [
       "30"
      ]
     },
     "execution_count": 34,
     "metadata": {},
     "output_type": "execute_result"
    }
   ],
   "source": [
    "result"
   ]
  },
  {
   "cell_type": "markdown",
   "id": "e98ba814-03eb-47a2-aca7-141000a52a99",
   "metadata": {},
   "source": [
    "### Logic with Python Functions"
   ]
  },
  {
   "cell_type": "code",
   "execution_count": 35,
   "id": "b3fc1374-1a9a-4843-8e8b-9817c72b5fbb",
   "metadata": {},
   "outputs": [
    {
     "data": {
      "text/plain": [
       "0"
      ]
     },
     "execution_count": 35,
     "metadata": {},
     "output_type": "execute_result"
    }
   ],
   "source": [
    "2 % 2"
   ]
  },
  {
   "cell_type": "code",
   "execution_count": 36,
   "id": "898bbfe9-f98c-4964-b6bb-9b469406dc4d",
   "metadata": {},
   "outputs": [
    {
     "data": {
      "text/plain": [
       "1"
      ]
     },
     "execution_count": 36,
     "metadata": {},
     "output_type": "execute_result"
    }
   ],
   "source": [
    "3 % 2"
   ]
  },
  {
   "cell_type": "code",
   "execution_count": 37,
   "id": "521682b7-d470-4265-b4e1-361296598848",
   "metadata": {},
   "outputs": [
    {
     "data": {
      "text/plain": [
       "1"
      ]
     },
     "execution_count": 37,
     "metadata": {},
     "output_type": "execute_result"
    }
   ],
   "source": [
    "41 % 40"
   ]
  },
  {
   "cell_type": "code",
   "execution_count": 38,
   "id": "e6e1d30f-1246-444c-be4e-4b20695f203e",
   "metadata": {},
   "outputs": [
    {
     "data": {
      "text/plain": [
       "0"
      ]
     },
     "execution_count": 38,
     "metadata": {},
     "output_type": "execute_result"
    }
   ],
   "source": [
    "20 % 2"
   ]
  },
  {
   "cell_type": "code",
   "execution_count": 39,
   "id": "0366bb78-87fa-4e6c-bef9-fc05a1d094d1",
   "metadata": {},
   "outputs": [
    {
     "data": {
      "text/plain": [
       "True"
      ]
     },
     "execution_count": 39,
     "metadata": {},
     "output_type": "execute_result"
    }
   ],
   "source": [
    "20 % 2 == 0"
   ]
  },
  {
   "cell_type": "code",
   "execution_count": 40,
   "id": "45d95831-1b56-4571-ad58-7c8e45905dda",
   "metadata": {},
   "outputs": [
    {
     "data": {
      "text/plain": [
       "False"
      ]
     },
     "execution_count": 40,
     "metadata": {},
     "output_type": "execute_result"
    }
   ],
   "source": [
    "21 % 2 == 0"
   ]
  },
  {
   "cell_type": "code",
   "execution_count": 45,
   "id": "7bb0bfab-7889-498b-8b1a-be7eeb83135a",
   "metadata": {},
   "outputs": [],
   "source": [
    "# definition written out long way.\n",
    "#def even_check(number):\n",
    "#    result = number % 2 == 0\n",
    "#    return result"
   ]
  },
  {
   "cell_type": "code",
   "execution_count": 46,
   "id": "6241ab92-65d8-43e0-ad17-34672256fb35",
   "metadata": {},
   "outputs": [],
   "source": [
    "# definition written short way\n",
    "def even_check(number):\n",
    "    return number % 2 == 0"
   ]
  },
  {
   "cell_type": "code",
   "execution_count": 47,
   "id": "cfa50d06-e1ed-4fed-8cc0-fb4b0073d7c5",
   "metadata": {},
   "outputs": [
    {
     "data": {
      "text/plain": [
       "True"
      ]
     },
     "execution_count": 47,
     "metadata": {},
     "output_type": "execute_result"
    }
   ],
   "source": [
    "even_check(30)"
   ]
  },
  {
   "cell_type": "code",
   "execution_count": 48,
   "id": "abf8f9bc-4f63-4c7e-a92c-2a58c305350c",
   "metadata": {},
   "outputs": [
    {
     "data": {
      "text/plain": [
       "False"
      ]
     },
     "execution_count": 48,
     "metadata": {},
     "output_type": "execute_result"
    }
   ],
   "source": [
    "even_check(21)"
   ]
  },
  {
   "cell_type": "code",
   "execution_count": 54,
   "id": "ef3917d9-32be-4ee7-828c-3e458ad0b51b",
   "metadata": {},
   "outputs": [],
   "source": [
    "# Return true if any number is even inside a list\n",
    "# Also setup another Return to return false if there are no even numbers,\n",
    "# by puttint the return indented with the for loop\n",
    "# returns do not have to be indented together, look at the logic that is taking place,\n",
    "# loop through all the numbers first\n",
    "\n",
    "def check_even_list(num_list):\n",
    "    \n",
    "    for number in num_list:\n",
    "        if number % 2 == 0:\n",
    "            return True\n",
    "        else:\n",
    "            pass\n",
    "        \n",
    "    return False\n",
    "        "
   ]
  },
  {
   "cell_type": "code",
   "execution_count": 55,
   "id": "41d58d35-2200-4b7c-b1da-4174b81d83c1",
   "metadata": {},
   "outputs": [
    {
     "data": {
      "text/plain": [
       "False"
      ]
     },
     "execution_count": 55,
     "metadata": {},
     "output_type": "execute_result"
    }
   ],
   "source": [
    "check_even_list([1,3,5])"
   ]
  },
  {
   "cell_type": "code",
   "execution_count": 56,
   "id": "ed70b8ea-5dda-416f-8041-cd5eeb3ba1c3",
   "metadata": {},
   "outputs": [
    {
     "data": {
      "text/plain": [
       "True"
      ]
     },
     "execution_count": 56,
     "metadata": {},
     "output_type": "execute_result"
    }
   ],
   "source": [
    "check_even_list([2,3,5])"
   ]
  },
  {
   "cell_type": "code",
   "execution_count": 57,
   "id": "b06c6a9a-6fad-4808-bcbe-e430288ba633",
   "metadata": {},
   "outputs": [
    {
     "data": {
      "text/plain": [
       "True"
      ]
     },
     "execution_count": 57,
     "metadata": {},
     "output_type": "execute_result"
    }
   ],
   "source": [
    "check_even_list([2,1,1,1,])"
   ]
  },
  {
   "cell_type": "code",
   "execution_count": 58,
   "id": "1170545e-27f3-420e-bb02-b937d27402e4",
   "metadata": {},
   "outputs": [
    {
     "data": {
      "text/plain": [
       "True"
      ]
     },
     "execution_count": 58,
     "metadata": {},
     "output_type": "execute_result"
    }
   ],
   "source": [
    "check_even_list([3,5,7,8])"
   ]
  },
  {
   "cell_type": "code",
   "execution_count": 59,
   "id": "a9f21147-24f8-4625-a512-2c3226e5b4b6",
   "metadata": {},
   "outputs": [],
   "source": [
    "def even_number_check_list(num_list):\n",
    "    # return all the even numbers in a list\n",
    "    \n",
    "    # placeholder variables\n",
    "    even_numbers = []\n",
    "    \n",
    "    for number in num_list:\n",
    "        if number % 2 == 0:\n",
    "            even_numbers.append(number)\n",
    "            \n",
    "        else:\n",
    "            pass\n",
    "        \n",
    "    return even_numbers"
   ]
  },
  {
   "cell_type": "code",
   "execution_count": 60,
   "id": "63983f5a-775f-49d5-8b97-93c4baac164b",
   "metadata": {},
   "outputs": [
    {
     "data": {
      "text/plain": [
       "[2, 4]"
      ]
     },
     "execution_count": 60,
     "metadata": {},
     "output_type": "execute_result"
    }
   ],
   "source": [
    "even_number_check_list([1,2,3,4,5])"
   ]
  },
  {
   "cell_type": "code",
   "execution_count": 61,
   "id": "5f0e966d-2bf6-47a8-ae9f-8749d0925b17",
   "metadata": {},
   "outputs": [
    {
     "data": {
      "text/plain": [
       "[]"
      ]
     },
     "execution_count": 61,
     "metadata": {},
     "output_type": "execute_result"
    }
   ],
   "source": [
    "even_number_check_list([1,3,5,7])"
   ]
  },
  {
   "cell_type": "markdown",
   "id": "82b5f0b4-bf99-444f-8d0c-eaecbbc6503c",
   "metadata": {},
   "source": [
    "### Tuple Unpacking with Python Functions"
   ]
  },
  {
   "cell_type": "code",
   "execution_count": 62,
   "id": "31f58db2-cd1b-4ab5-a7e4-208976397065",
   "metadata": {},
   "outputs": [],
   "source": [
    "stock_prices = [('APPL', 200), ('GOOG', 400), ('MSFT', 100)]"
   ]
  },
  {
   "cell_type": "code",
   "execution_count": 65,
   "id": "370711b4-689c-4b4f-acc7-aba5b1d7a5b1",
   "metadata": {},
   "outputs": [
    {
     "name": "stdout",
     "output_type": "stream",
     "text": [
      "('APPL', 200)\n",
      "('GOOG', 400)\n",
      "('MSFT', 100)\n"
     ]
    }
   ],
   "source": [
    "for item in stock_prices:\n",
    "    print(item)"
   ]
  },
  {
   "cell_type": "code",
   "execution_count": 69,
   "id": "f62e33d9-3661-4dd9-99a7-3053ad0d6cb8",
   "metadata": {},
   "outputs": [
    {
     "name": "stdout",
     "output_type": "stream",
     "text": [
      "200\n",
      "400\n",
      "100\n"
     ]
    }
   ],
   "source": [
    "for ticker,price in stock_prices:\n",
    "    print(price)"
   ]
  },
  {
   "cell_type": "code",
   "execution_count": 70,
   "id": "44c9fd81-e168-4254-9ffd-8169f83952ed",
   "metadata": {},
   "outputs": [
    {
     "name": "stdout",
     "output_type": "stream",
     "text": [
      "APPL\n",
      "GOOG\n",
      "MSFT\n"
     ]
    }
   ],
   "source": [
    "for ticker,price in stock_prices:\n",
    "    print(ticker)"
   ]
  },
  {
   "cell_type": "code",
   "execution_count": 72,
   "id": "78998d17-1ab3-4c8e-8822-49f06999eb1b",
   "metadata": {},
   "outputs": [
    {
     "name": "stdout",
     "output_type": "stream",
     "text": [
      "220.0\n",
      "440.0\n",
      "110.0\n"
     ]
    }
   ],
   "source": [
    "# adding a 10% increase to the stock prices\n",
    "for ticker,price in stock_prices:\n",
    "    print(price+(0.1*price))"
   ]
  },
  {
   "cell_type": "code",
   "execution_count": 80,
   "id": "d02362f9-710e-43fe-b040-6fa91ca5f4a2",
   "metadata": {},
   "outputs": [],
   "source": [
    "work_hours = [('Abby', 100), ('Billy', 400), ('Cassie', 700)]"
   ]
  },
  {
   "cell_type": "code",
   "execution_count": 81,
   "id": "380bff7f-329f-4a26-9da6-9d66b39442f9",
   "metadata": {},
   "outputs": [],
   "source": [
    "def employee_check(work_hours):\n",
    "    \n",
    "    current_max = 0\n",
    "    employee_of_month = ''\n",
    "    \n",
    "    for employee,hours in work_hours:\n",
    "        if hours > current_max:\n",
    "            current_max = hours\n",
    "            employee_of_month = employee\n",
    "        else:\n",
    "            pass\n",
    "    \n",
    "    # Return\n",
    "    return (employee_of_month, current_max)"
   ]
  },
  {
   "cell_type": "code",
   "execution_count": 82,
   "id": "25f861bc-1613-456c-9fe3-7313e685c365",
   "metadata": {},
   "outputs": [
    {
     "data": {
      "text/plain": [
       "('Cassie', 700)"
      ]
     },
     "execution_count": 82,
     "metadata": {},
     "output_type": "execute_result"
    }
   ],
   "source": [
    "employee_check(work_hours)"
   ]
  },
  {
   "cell_type": "code",
   "execution_count": 83,
   "id": "56d34826-c64a-4124-8334-aeeadb0053a0",
   "metadata": {},
   "outputs": [],
   "source": [
    "result = employee_check(work_hours)"
   ]
  },
  {
   "cell_type": "code",
   "execution_count": 84,
   "id": "295b7275-3bab-4370-b179-68ed0352a8ec",
   "metadata": {},
   "outputs": [
    {
     "data": {
      "text/plain": [
       "('Cassie', 700)"
      ]
     },
     "execution_count": 84,
     "metadata": {},
     "output_type": "execute_result"
    }
   ],
   "source": [
    "result"
   ]
  },
  {
   "cell_type": "code",
   "execution_count": 85,
   "id": "230f7f41-4e51-4e15-a7e2-102c6b486476",
   "metadata": {},
   "outputs": [],
   "source": [
    "# Tuple unpacking with a function call\n",
    "name,hours = employee_check(work_hours)"
   ]
  },
  {
   "cell_type": "code",
   "execution_count": 86,
   "id": "10201a3d-9a6b-4133-b81a-e4feed45f7c9",
   "metadata": {},
   "outputs": [
    {
     "data": {
      "text/plain": [
       "'Cassie'"
      ]
     },
     "execution_count": 86,
     "metadata": {},
     "output_type": "execute_result"
    }
   ],
   "source": [
    "name"
   ]
  },
  {
   "cell_type": "code",
   "execution_count": 87,
   "id": "42f7654c-4ca0-4e8d-b663-d7703c7f3349",
   "metadata": {},
   "outputs": [
    {
     "data": {
      "text/plain": [
       "700"
      ]
     },
     "execution_count": 87,
     "metadata": {},
     "output_type": "execute_result"
    }
   ],
   "source": [
    "hours"
   ]
  },
  {
   "cell_type": "code",
   "execution_count": 88,
   "id": "8bcb0ac2-92b8-4079-afef-42cab0fdfc25",
   "metadata": {},
   "outputs": [
    {
     "ename": "ValueError",
     "evalue": "not enough values to unpack (expected 3, got 2)",
     "output_type": "error",
     "traceback": [
      "\u001b[0;31m---------------------------------------------------------------------------\u001b[0m",
      "\u001b[0;31mValueError\u001b[0m                                Traceback (most recent call last)",
      "\u001b[0;32m<ipython-input-88-081037b26feb>\u001b[0m in \u001b[0;36m<module>\u001b[0;34m\u001b[0m\n\u001b[1;32m      1\u001b[0m \u001b[0;31m# Maybe we use someone elses function for from a different library and think it has,\u001b[0m\u001b[0;34m\u001b[0m\u001b[0;34m\u001b[0m\u001b[0;34m\u001b[0m\u001b[0m\n\u001b[1;32m      2\u001b[0m \u001b[0;31m# location as well.\u001b[0m\u001b[0;34m\u001b[0m\u001b[0;34m\u001b[0m\u001b[0;34m\u001b[0m\u001b[0m\n\u001b[0;32m----> 3\u001b[0;31m \u001b[0mname\u001b[0m\u001b[0;34m,\u001b[0m\u001b[0mhours\u001b[0m\u001b[0;34m,\u001b[0m\u001b[0mlocation\u001b[0m \u001b[0;34m=\u001b[0m \u001b[0memployee_check\u001b[0m\u001b[0;34m(\u001b[0m\u001b[0mwork_hours\u001b[0m\u001b[0;34m)\u001b[0m\u001b[0;34m\u001b[0m\u001b[0;34m\u001b[0m\u001b[0m\n\u001b[0m",
      "\u001b[0;31mValueError\u001b[0m: not enough values to unpack (expected 3, got 2)"
     ]
    }
   ],
   "source": [
    "# Maybe we use someone elses function for from a different library and think it has,\n",
    "# location as well.\n",
    "# Error expected 3 that we listed, even though there are 2\n",
    "name,hours,location = employee_check(work_hours)"
   ]
  },
  {
   "cell_type": "code",
   "execution_count": 89,
   "id": "bbe0041e-866f-4e37-a030-a54904cb49c1",
   "metadata": {},
   "outputs": [],
   "source": [
    "# A way to check what is there in the function, assign a variable and check the function\n",
    "item = employee_check(work_hours)"
   ]
  },
  {
   "cell_type": "code",
   "execution_count": 90,
   "id": "8cfd034b-19df-4ca4-9142-f1c2c1031f92",
   "metadata": {},
   "outputs": [
    {
     "data": {
      "text/plain": [
       "('Cassie', 700)"
      ]
     },
     "execution_count": 90,
     "metadata": {},
     "output_type": "execute_result"
    }
   ],
   "source": [
    "item"
   ]
  },
  {
   "cell_type": "markdown",
   "id": "46825b08-bd32-45ce-a09b-166ba6d35187",
   "metadata": {},
   "source": [
    "### Interactins between Python Functions\n",
    "\n",
    "#### Typically a ptython scrip or notebook contains several functions interaction with each other.\n",
    "#### Let's create a few functions to mimic the carnival guessing game \"Three Cup Monte\""
   ]
  },
  {
   "cell_type": "code",
   "execution_count": 91,
   "id": "de420b71-28c1-447e-be26-de78017da072",
   "metadata": {},
   "outputs": [],
   "source": [
    "example = [1,2,3,4,5,6,7]"
   ]
  },
  {
   "cell_type": "code",
   "execution_count": 92,
   "id": "5660e226-ccc7-47c9-bc49-53d47762b223",
   "metadata": {},
   "outputs": [],
   "source": [
    "from random import shuffle"
   ]
  },
  {
   "cell_type": "code",
   "execution_count": 93,
   "id": "072bdd27-49e9-44f5-8f58-d9030639b86e",
   "metadata": {},
   "outputs": [],
   "source": [
    "shuffle(example)"
   ]
  },
  {
   "cell_type": "code",
   "execution_count": 94,
   "id": "e7ecc198-0c01-481d-8613-22dfcd4ed405",
   "metadata": {},
   "outputs": [
    {
     "data": {
      "text/plain": [
       "[6, 5, 3, 2, 7, 4, 1]"
      ]
     },
     "execution_count": 94,
     "metadata": {},
     "output_type": "execute_result"
    }
   ],
   "source": [
    "example"
   ]
  },
  {
   "cell_type": "code",
   "execution_count": 95,
   "id": "02515b1a-8fc1-462b-b7a1-f92922f1c7f5",
   "metadata": {},
   "outputs": [],
   "source": [
    "def shuffle_list(mylist):\n",
    "    shuffle(mylist)\n",
    "    return mylist"
   ]
  },
  {
   "cell_type": "code",
   "execution_count": 99,
   "id": "be51bc36-d3e9-41e7-86ec-1d12e99ffe48",
   "metadata": {},
   "outputs": [],
   "source": [
    "result = shuffle_list(example)"
   ]
  },
  {
   "cell_type": "code",
   "execution_count": 101,
   "id": "4f0ed4d6-ed4e-494a-a02e-7854e29aa2c1",
   "metadata": {},
   "outputs": [
    {
     "data": {
      "text/plain": [
       "[4, 1, 5, 3, 2, 7, 6]"
      ]
     },
     "execution_count": 101,
     "metadata": {},
     "output_type": "execute_result"
    }
   ],
   "source": [
    "result"
   ]
  },
  {
   "cell_type": "markdown",
   "id": "02d1ce95-d0c9-491b-a7ed-d3b5b9697587",
   "metadata": {},
   "source": [
    "mylist = [' ', '0', ' ']"
   ]
  },
  {
   "cell_type": "code",
   "execution_count": 102,
   "id": "ccc91525-f950-4ae1-9783-2c106e93c9ba",
   "metadata": {},
   "outputs": [],
   "source": [
    "mylist = [' ', '0', ' ']"
   ]
  },
  {
   "cell_type": "code",
   "execution_count": 103,
   "id": "eefaa112-f0c7-4a67-973a-194982ae6f2f",
   "metadata": {},
   "outputs": [
    {
     "data": {
      "text/plain": [
       "[' ', '0', ' ']"
      ]
     },
     "execution_count": 103,
     "metadata": {},
     "output_type": "execute_result"
    }
   ],
   "source": [
    "shuffle_list(mylist)"
   ]
  },
  {
   "cell_type": "code",
   "execution_count": 104,
   "id": "1961370c-5ae4-4da2-8c9e-af71b477370d",
   "metadata": {},
   "outputs": [],
   "source": [
    "def player_guess():\n",
    "    \n",
    "    guess = ''\n",
    "    \n",
    "    while guess not in ['0','1','2']:\n",
    "        guess = input(\"Pick a number: 0, 1, or 2\")\n",
    "        \n",
    "    return int(guess)"
   ]
  },
  {
   "cell_type": "code",
   "execution_count": 106,
   "id": "9fb2f985-4938-4907-94c2-d2bbe35b19a0",
   "metadata": {},
   "outputs": [
    {
     "name": "stdin",
     "output_type": "stream",
     "text": [
      "Pick a number: 0, 1, or 2 5\n",
      "Pick a number: 0, 1, or 2 2\n"
     ]
    },
    {
     "data": {
      "text/plain": [
       "2"
      ]
     },
     "execution_count": 106,
     "metadata": {},
     "output_type": "execute_result"
    }
   ],
   "source": [
    "player_guess()"
   ]
  },
  {
   "cell_type": "code",
   "execution_count": null,
   "id": "25fc162e-7a38-400e-84db-d602a537ebf0",
   "metadata": {},
   "outputs": [],
   "source": []
  }
 ],
 "metadata": {
  "kernelspec": {
   "display_name": "Python 3",
   "language": "python",
   "name": "python3"
  },
  "language_info": {
   "codemirror_mode": {
    "name": "ipython",
    "version": 3
   },
   "file_extension": ".py",
   "mimetype": "text/x-python",
   "name": "python",
   "nbconvert_exporter": "python",
   "pygments_lexer": "ipython3",
   "version": "3.8.8"
  }
 },
 "nbformat": 4,
 "nbformat_minor": 5
}
