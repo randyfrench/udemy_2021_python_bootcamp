{
 "cells": [
  {
   "cell_type": "markdown",
   "id": "e915008f-0490-4428-9693-f024ab838512",
   "metadata": {},
   "source": [
    "# Methods and Functions\n",
    "## Methods and the Python Documentation"
   ]
  },
  {
   "cell_type": "code",
   "execution_count": 1,
   "id": "7bcfb876-75ea-4c62-bd83-64b02f181a9e",
   "metadata": {},
   "outputs": [],
   "source": [
    "mylist = [1,2,3]"
   ]
  },
  {
   "cell_type": "code",
   "execution_count": 2,
   "id": "69227525-7399-4b0c-8821-70b81fb11f9a",
   "metadata": {},
   "outputs": [
    {
     "name": "stdout",
     "output_type": "stream",
     "text": [
      "Help on built-in function insert:\n",
      "\n",
      "insert(index, object, /) method of builtins.list instance\n",
      "    Insert object before index.\n",
      "\n"
     ]
    }
   ],
   "source": [
    "help(mylist.insert)"
   ]
  },
  {
   "cell_type": "code",
   "execution_count": 3,
   "id": "7ad3645c-48d5-4ecb-baa6-adf582b3f4ac",
   "metadata": {},
   "outputs": [],
   "source": [
    "# You can use the Python documentation webpage as well - Library Ref = Standard Documentation"
   ]
  },
  {
   "cell_type": "markdown",
   "id": "dc462369-78af-42d9-8d1f-f1a1eb16906c",
   "metadata": {},
   "source": [
    "# Introduction to Functions"
   ]
  },
  {
   "cell_type": "markdown",
   "id": "58585ede-dbf4-4365-9c1e-e62f843aee6c",
   "metadata": {},
   "source": [
    "## Creating clean repeatable code is a key part of becoming an effective programmer.\n",
    "\n",
    "## Functions allow us to create blocks of code taht can be easily executed many times, without needing to constantly rewrite the entire block of code.\n",
    "\n",
    "## Functions will be a huge leap forward in your capabilites as a Python programmer.\n",
    "\n",
    "## This means that the problems you are able to solve can also be a lot harder!\n",
    "\n",
    "## It is very important to get practice combining everything you've learned so far (control flow, loops, ect.) with functions to become an effective programmer."
   ]
  },
  {
   "cell_type": "code",
   "execution_count": 4,
   "id": "c8e7e987-0406-4317-a117-00c6aff33d78",
   "metadata": {},
   "outputs": [],
   "source": [
    "# Creating a function requires a very specific syntax, including the def keyword,\n",
    "# correct indentation, and proper structure."
   ]
  },
  {
   "cell_type": "code",
   "execution_count": 6,
   "id": "3b366f88-2e8e-401c-82aa-e1780f6b02e4",
   "metadata": {},
   "outputs": [],
   "source": [
    "def name_of_function():\n",
    "    ''' \n",
    "    Docstring explains the function\n",
    "    '''\n",
    "    print(\"Hello\")"
   ]
  },
  {
   "cell_type": "code",
   "execution_count": null,
   "id": "12aeba25-4b8e-4f5e-b787-d8178a212c68",
   "metadata": {},
   "outputs": [],
   "source": []
  }
 ],
 "metadata": {
  "kernelspec": {
   "display_name": "Python 3",
   "language": "python",
   "name": "python3"
  },
  "language_info": {
   "codemirror_mode": {
    "name": "ipython",
    "version": 3
   },
   "file_extension": ".py",
   "mimetype": "text/x-python",
   "name": "python",
   "nbconvert_exporter": "python",
   "pygments_lexer": "ipython3",
   "version": "3.8.8"
  }
 },
 "nbformat": 4,
 "nbformat_minor": 5
}
