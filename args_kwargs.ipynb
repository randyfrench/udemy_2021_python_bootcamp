{
 "cells": [
  {
   "cell_type": "markdown",
   "id": "956dfbb3-aad7-40ed-919c-aa42167edd0c",
   "metadata": {},
   "source": [
    "### *args and **kwargs\n",
    "#### Arguments and Keywords"
   ]
  },
  {
   "cell_type": "code",
   "execution_count": 1,
   "id": "6824562d-416b-40fc-88d6-d8f3e846a7ac",
   "metadata": {},
   "outputs": [],
   "source": [
    "def myfunc(a,b):\n",
    "    # Returns 5% of the sum of a and b\n",
    "    return sum((a,b)) * 0.05"
   ]
  },
  {
   "cell_type": "code",
   "execution_count": 2,
   "id": "226783c9-d19b-40da-ae82-7df3f1c76347",
   "metadata": {},
   "outputs": [
    {
     "data": {
      "text/plain": [
       "5.0"
      ]
     },
     "execution_count": 2,
     "metadata": {},
     "output_type": "execute_result"
    }
   ],
   "source": [
    "myfunc(40,60)"
   ]
  },
  {
   "cell_type": "code",
   "execution_count": 3,
   "id": "12bc2b9b-8123-4971-bc0f-3667d1fd8640",
   "metadata": {},
   "outputs": [],
   "source": [
    "# What if you needed more numbers you wanted to sum?\n",
    "# by adding *args you will have an arbitrary number of arguments.\n",
    "def myfunc(*args):\n",
    "    return sum(args) * 0.05"
   ]
  },
  {
   "cell_type": "code",
   "execution_count": 4,
   "id": "39f6fb84-b8e3-4189-99db-91f686ba3fde",
   "metadata": {},
   "outputs": [
    {
     "data": {
      "text/plain": [
       "5.0"
      ]
     },
     "execution_count": 4,
     "metadata": {},
     "output_type": "execute_result"
    }
   ],
   "source": [
    "myfunc(10,20,30,40)"
   ]
  },
  {
   "cell_type": "code",
   "execution_count": 16,
   "id": "2a51b7e7-b3c5-41c3-bb67-db22cc1d5e78",
   "metadata": {},
   "outputs": [],
   "source": [
    "# key word arguments sets as a dictionary\n",
    "def myfunc(**kwargs):\n",
    "    print(kwargs)\n",
    "    if 'fruit' in kwargs:\n",
    "        print('My fruit of choice is {}'.format(kwargs['fruit']))\n",
    "    else:\n",
    "        print('I did not find any fruity here')"
   ]
  },
  {
   "cell_type": "code",
   "execution_count": 17,
   "id": "10f8b6f6-bfe8-4765-923a-d78355d4f311",
   "metadata": {},
   "outputs": [
    {
     "name": "stdout",
     "output_type": "stream",
     "text": [
      "{'fruit': 'apple', 'veggie': 'lettuce'}\n",
      "My fruit of choice is apple\n"
     ]
    }
   ],
   "source": [
    "myfunc(fruit = 'apple', veggie = 'lettuce')"
   ]
  },
  {
   "cell_type": "code",
   "execution_count": 20,
   "id": "c52a780a-33de-455b-9757-78bf9467e879",
   "metadata": {},
   "outputs": [],
   "source": [
    "def myfunc(*args,**kwargs):\n",
    "    print(args)\n",
    "    print(kwargs)\n",
    "    print('I would like {} {}'.format(args[0], kwargs['food']))"
   ]
  },
  {
   "cell_type": "code",
   "execution_count": 21,
   "id": "f840313e-61a1-4e14-a75e-9f7bf99e8e77",
   "metadata": {},
   "outputs": [
    {
     "name": "stdout",
     "output_type": "stream",
     "text": [
      "(10, 20, 30)\n",
      "{'fruit': 'orange', 'food': 'eggs', 'animal': 'dog'}\n",
      "I would like 10 eggs\n"
     ]
    }
   ],
   "source": [
    "myfunc(10,20,30,fruit = 'orange', food = 'eggs', animal = 'dog')"
   ]
  },
  {
   "cell_type": "code",
   "execution_count": null,
   "id": "039a20bc-0597-47e0-942a-5d420900f818",
   "metadata": {},
   "outputs": [],
   "source": []
  }
 ],
 "metadata": {
  "kernelspec": {
   "display_name": "Python 3",
   "language": "python",
   "name": "python3"
  },
  "language_info": {
   "codemirror_mode": {
    "name": "ipython",
    "version": 3
   },
   "file_extension": ".py",
   "mimetype": "text/x-python",
   "name": "python",
   "nbconvert_exporter": "python",
   "pygments_lexer": "ipython3",
   "version": "3.8.8"
  }
 },
 "nbformat": 4,
 "nbformat_minor": 5
}
