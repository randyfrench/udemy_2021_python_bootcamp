{
 "cells": [
  {
   "cell_type": "markdown",
   "id": "69ca5db4-67d5-46f2-abbc-5da258e039ce",
   "metadata": {},
   "source": [
    "# Control Flow\n",
    "\n",
    "## We often only want certain code to execute when a particluar condition has been met.\n",
    "## For example, if my dog is hungry (some condition), then I will feed the dog (some action).\n",
    "\n",
    "## Keywords: if, elif, else\n",
    "\n",
    "## Control Flow syntax makes use of colons and indentation (whitespace).\n",
    "## This indentation system is crucial to Python and is what sets it apart from other programming languages.\n",
    "\n",
    "## Syntax of an *if* statement\n",
    "### if some_condition:\n",
    "   execute some code\n",
    "## elif some_other_condition:\n",
    "##    do something different\n",
    "## else:\n",
    "##    do something else"
   ]
  },
  {
   "cell_type": "code",
   "execution_count": 6,
   "id": "025feab0-1111-44db-b516-aa505ad0c019",
   "metadata": {},
   "outputs": [
    {
     "name": "stdout",
     "output_type": "stream",
     "text": [
      "I'm not hungry\n"
     ]
    }
   ],
   "source": [
    "hungry = False\n",
    "if hungry:\n",
    "    print('FEED ME!')\n",
    "else:\n",
    "    print(\"I'm not hungry\")"
   ]
  },
  {
   "cell_type": "code",
   "execution_count": 10,
   "id": "3ce87372-a32e-481e-9b6f-b245e891b535",
   "metadata": {},
   "outputs": [
    {
     "name": "stdout",
     "output_type": "stream",
     "text": [
      "Welcome to the store!\n"
     ]
    }
   ],
   "source": [
    "loc = 'Store'\n",
    "\n",
    "if loc == 'Auto Shop':\n",
    "    print(\"Cars are cool!\")\n",
    "elif loc == 'Bank':\n",
    "    print(\"Money is cool!\")\n",
    "elif loc == 'Store':\n",
    "    print(\"Welcome to the store!\")\n",
    "else:\n",
    "    print(\"I do not know much.\")"
   ]
  },
  {
   "cell_type": "code",
   "execution_count": 12,
   "id": "fb2bbd61-e445-4247-987e-74f4283db0d3",
   "metadata": {},
   "outputs": [
    {
     "name": "stdout",
     "output_type": "stream",
     "text": [
      "What is your name?\n"
     ]
    }
   ],
   "source": [
    "name = 'Bill'\n",
    "\n",
    "if name == 'Frankie':\n",
    "    print(\"Hello Frankie\")\n",
    "elif name == 'Sammy':\n",
    "    print(\"Hello Sammy\")\n",
    "else:\n",
    "    print(\"What is your name?\")"
   ]
  },
  {
   "cell_type": "code",
   "execution_count": null,
   "id": "bae2aba2-78cb-4876-b296-7855905c035e",
   "metadata": {},
   "outputs": [],
   "source": []
  }
 ],
 "metadata": {
  "kernelspec": {
   "display_name": "Python 3",
   "language": "python",
   "name": "python3"
  },
  "language_info": {
   "codemirror_mode": {
    "name": "ipython",
    "version": 3
   },
   "file_extension": ".py",
   "mimetype": "text/x-python",
   "name": "python",
   "nbconvert_exporter": "python",
   "pygments_lexer": "ipython3",
   "version": "3.8.8"
  }
 },
 "nbformat": 4,
 "nbformat_minor": 5
}
