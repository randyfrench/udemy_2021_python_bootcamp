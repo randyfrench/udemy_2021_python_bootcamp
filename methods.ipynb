{
 "cells": [
  {
   "cell_type": "markdown",
   "id": "77c38ad6-5d53-40b3-8a28-f372b6845f42",
   "metadata": {},
   "source": [
    "## Methods\n",
    "### Built-n objects in Python have a variety of methods you can use!"
   ]
  },
  {
   "cell_type": "code",
   "execution_count": 1,
   "id": "36aa007e-987f-4c55-95a5-5171098e7a13",
   "metadata": {},
   "outputs": [],
   "source": [
    "mylist = [1,2,3]"
   ]
  },
  {
   "cell_type": "code",
   "execution_count": 2,
   "id": "c7a8f23e-3569-46bc-ae48-684201457261",
   "metadata": {},
   "outputs": [],
   "source": [
    "mylist.append(4)"
   ]
  },
  {
   "cell_type": "code",
   "execution_count": 3,
   "id": "31e40214-1838-49ca-9af4-2abf8edace9b",
   "metadata": {},
   "outputs": [
    {
     "data": {
      "text/plain": [
       "[1, 2, 3, 4]"
      ]
     },
     "execution_count": 3,
     "metadata": {},
     "output_type": "execute_result"
    }
   ],
   "source": [
    "mylist"
   ]
  },
  {
   "cell_type": "code",
   "execution_count": 4,
   "id": "5d1a0ca3-b352-411f-a3df-22e2eec98e3e",
   "metadata": {},
   "outputs": [
    {
     "data": {
      "text/plain": [
       "4"
      ]
     },
     "execution_count": 4,
     "metadata": {},
     "output_type": "execute_result"
    }
   ],
   "source": [
    "mylist.pop()"
   ]
  },
  {
   "cell_type": "code",
   "execution_count": 5,
   "id": "f2c06f5e-8386-49c3-94ac-b20be70c8004",
   "metadata": {},
   "outputs": [
    {
     "data": {
      "text/plain": [
       "[1, 2, 3]"
      ]
     },
     "execution_count": 5,
     "metadata": {},
     "output_type": "execute_result"
    }
   ],
   "source": [
    "mylist"
   ]
  },
  {
   "cell_type": "code",
   "execution_count": null,
   "id": "1e76c83e-e006-485a-836e-6e9bba1318e7",
   "metadata": {},
   "outputs": [],
   "source": [
    "# to see the help for this method use shift + tab after the method\n",
    "mylist.insert"
   ]
  }
 ],
 "metadata": {
  "kernelspec": {
   "display_name": "Python 3",
   "language": "python",
   "name": "python3"
  },
  "language_info": {
   "codemirror_mode": {
    "name": "ipython",
    "version": 3
   },
   "file_extension": ".py",
   "mimetype": "text/x-python",
   "name": "python",
   "nbconvert_exporter": "python",
   "pygments_lexer": "ipython3",
   "version": "3.8.8"
  }
 },
 "nbformat": 4,
 "nbformat_minor": 5
}
