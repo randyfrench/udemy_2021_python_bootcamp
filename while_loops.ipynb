{
 "cells": [
  {
   "cell_type": "markdown",
   "id": "3baf2d31-b929-41d0-b27e-c4010a632f3b",
   "metadata": {},
   "source": [
    "# While Loops\n",
    "While loops will contine to execute a block of code while some condition remains True.\n",
    "For example, while my pool is not full, keep filling my pool with water.\n",
    "Or while my dogs are still hungry, keep feeding my dogs.\n",
    "\n",
    "Syntax of a while loop\n",
    "     while some_boolean_condition:\n",
    "       do something\n",
    "     else:\n",
    "       do someting different"
   ]
  },
  {
   "cell_type": "code",
   "execution_count": 4,
   "id": "cf2599e9-bb37-48ad-a511-2ef60ab1dea5",
   "metadata": {},
   "outputs": [
    {
     "name": "stdout",
     "output_type": "stream",
     "text": [
      "The current value of x is 0\n",
      "The current value of x is 1\n",
      "The current value of x is 2\n",
      "The current value of x is 3\n",
      "The current value of x is 4\n",
      "X IS NOT LESS THAN 5\n"
     ]
    }
   ],
   "source": [
    "# if the statement is always true, you may have to stop the statement CNTL C\n",
    "x = 0\n",
    "\n",
    "while x < 5:\n",
    "    print(f'The current value of x is {x}')\n",
    "    x += 1\n",
    "else:\n",
    "    print(\"X IS NOT LESS THAN 5\")"
   ]
  },
  {
   "cell_type": "code",
   "execution_count": 5,
   "id": "a85dca7e-71e9-470a-8a00-84d5addc6aff",
   "metadata": {},
   "outputs": [
    {
     "name": "stdout",
     "output_type": "stream",
     "text": [
      "X IS NOT LESS THAN 5\n"
     ]
    }
   ],
   "source": [
    "x = 50\n",
    "\n",
    "while x < 5:\n",
    "    print(f'The current value of x is {x}')\n",
    "    x += 1\n",
    "else:\n",
    "    print(\"X IS NOT LESS THAN 5\")"
   ]
  },
  {
   "cell_type": "markdown",
   "id": "807f5055-31bc-484f-9373-ad0b616d42c0",
   "metadata": {},
   "source": [
    "## break, continue, pass\n",
    "We can use break, continue and pass statements in our loops to add additional\n",
    "functionality for various cases. The three statements are defined by:\n",
    "\n",
    "#### break: Breaks out of the current closest enclosing loop.\n",
    "#### continue: Goes to the top of the closest enclosing loop.\n",
    "#### pass: Does noting at all."
   ]
  },
  {
   "cell_type": "code",
   "execution_count": 8,
   "id": "abe2e1ab-df95-4618-b5df-682dc88dde30",
   "metadata": {},
   "outputs": [
    {
     "ename": "SyntaxError",
     "evalue": "unexpected EOF while parsing (<ipython-input-8-2f2e37c9607a>, line 4)",
     "output_type": "error",
     "traceback": [
      "\u001b[0;36m  File \u001b[0;32m\"<ipython-input-8-2f2e37c9607a>\"\u001b[0;36m, line \u001b[0;32m4\u001b[0m\n\u001b[0;31m    # comment\u001b[0m\n\u001b[0m             ^\u001b[0m\n\u001b[0;31mSyntaxError\u001b[0m\u001b[0;31m:\u001b[0m unexpected EOF while parsing\n"
     ]
    }
   ],
   "source": [
    "x = [1,2,3]\n",
    "\n",
    "for item in x:\n",
    "    # comment\n"
   ]
  },
  {
   "cell_type": "code",
   "execution_count": 9,
   "id": "d9a3e9c2-8bb6-4620-a638-a6ba1c332f54",
   "metadata": {},
   "outputs": [
    {
     "name": "stdout",
     "output_type": "stream",
     "text": [
      "end of my script\n"
     ]
    }
   ],
   "source": [
    "x = [1,2,3]\n",
    "\n",
    "for item in x:\n",
    "    # comment\n",
    "    pass\n",
    "\n",
    "print('end of my script')"
   ]
  },
  {
   "cell_type": "code",
   "execution_count": 10,
   "id": "149d4f92-5156-4ad4-8015-161210ee3ecf",
   "metadata": {},
   "outputs": [],
   "source": [
    "mystring = 'Sammy'"
   ]
  },
  {
   "cell_type": "code",
   "execution_count": 11,
   "id": "05c1bdd9-4d88-43ce-9608-1312523e5bfe",
   "metadata": {},
   "outputs": [
    {
     "name": "stdout",
     "output_type": "stream",
     "text": [
      "S\n",
      "a\n",
      "m\n",
      "m\n",
      "y\n"
     ]
    }
   ],
   "source": [
    "for letter in mystring:\n",
    "    print(letter)"
   ]
  },
  {
   "cell_type": "code",
   "execution_count": 12,
   "id": "7485cfe4-8181-4e13-8cb3-3720ded2bbc8",
   "metadata": {},
   "outputs": [
    {
     "name": "stdout",
     "output_type": "stream",
     "text": [
      "S\n",
      "m\n",
      "m\n",
      "y\n"
     ]
    }
   ],
   "source": [
    "# continue: Goes back to the top of the closest enclosing loop and starts again\n",
    "for letter in mystring:\n",
    "    if letter == 'a':\n",
    "        continue\n",
    "    print(letter)"
   ]
  },
  {
   "cell_type": "code",
   "execution_count": 13,
   "id": "8c408f0b-237b-450d-8fad-0188be792808",
   "metadata": {},
   "outputs": [
    {
     "name": "stdout",
     "output_type": "stream",
     "text": [
      "S\n"
     ]
    }
   ],
   "source": [
    "# break: breaks out of the current loop and stops\n",
    "for letter in mystring:\n",
    "    if letter == 'a':\n",
    "        break\n",
    "    print(letter)"
   ]
  },
  {
   "cell_type": "code",
   "execution_count": 14,
   "id": "af413a27-e212-4a4f-bcf8-70432c238259",
   "metadata": {},
   "outputs": [
    {
     "name": "stdout",
     "output_type": "stream",
     "text": [
      "0\n",
      "1\n"
     ]
    }
   ],
   "source": [
    "# break: the if == to 2 and break stops the numbers to only 0 and 1, before 2\n",
    "x = 0\n",
    "\n",
    "while x < 5:\n",
    "    \n",
    "    if x == 2:\n",
    "        break\n",
    "    print(x)\n",
    "    x += 1\n"
   ]
  },
  {
   "cell_type": "code",
   "execution_count": null,
   "id": "17f8cd4f-c640-4acc-8634-153c9288f5bd",
   "metadata": {},
   "outputs": [],
   "source": []
  }
 ],
 "metadata": {
  "kernelspec": {
   "display_name": "Python 3",
   "language": "python",
   "name": "python3"
  },
  "language_info": {
   "codemirror_mode": {
    "name": "ipython",
    "version": 3
   },
   "file_extension": ".py",
   "mimetype": "text/x-python",
   "name": "python",
   "nbconvert_exporter": "python",
   "pygments_lexer": "ipython3",
   "version": "3.8.8"
  }
 },
 "nbformat": 4,
 "nbformat_minor": 5
}
