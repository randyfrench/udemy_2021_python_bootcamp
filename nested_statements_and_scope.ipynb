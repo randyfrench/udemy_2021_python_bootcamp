{
 "cells": [
  {
   "cell_type": "markdown",
   "id": "29c69126-34f6-42e2-b876-8a4f06ba35ec",
   "metadata": {},
   "source": [
    "### Nested Statements and Scope"
   ]
  },
  {
   "cell_type": "code",
   "execution_count": 1,
   "id": "94515ffd-6fb3-49bc-8dd3-1b2b0fcc0414",
   "metadata": {},
   "outputs": [],
   "source": [
    "x = 25\n",
    "\n",
    "def printer():\n",
    "    x = 50\n",
    "    return x"
   ]
  },
  {
   "cell_type": "code",
   "execution_count": 2,
   "id": "485708b3-b06d-4852-b034-160c42530507",
   "metadata": {},
   "outputs": [
    {
     "name": "stdout",
     "output_type": "stream",
     "text": [
      "25\n"
     ]
    }
   ],
   "source": [
    "print(x)"
   ]
  },
  {
   "cell_type": "code",
   "execution_count": null,
   "id": "1a14472b-6208-47ba-82da-a34f81bafbbe",
   "metadata": {},
   "outputs": [],
   "source": []
  }
 ],
 "metadata": {
  "kernelspec": {
   "display_name": "Python 3",
   "language": "python",
   "name": "python3"
  },
  "language_info": {
   "codemirror_mode": {
    "name": "ipython",
    "version": 3
   },
   "file_extension": ".py",
   "mimetype": "text/x-python",
   "name": "python",
   "nbconvert_exporter": "python",
   "pygments_lexer": "ipython3",
   "version": "3.8.8"
  }
 },
 "nbformat": 4,
 "nbformat_minor": 5
}
