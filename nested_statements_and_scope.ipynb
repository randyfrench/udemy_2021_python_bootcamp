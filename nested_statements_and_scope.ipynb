{
 "cells": [
  {
   "cell_type": "markdown",
   "id": "29c69126-34f6-42e2-b876-8a4f06ba35ec",
   "metadata": {},
   "source": [
    "### Nested Statements and Scope"
   ]
  },
  {
   "cell_type": "code",
   "execution_count": 1,
   "id": "94515ffd-6fb3-49bc-8dd3-1b2b0fcc0414",
   "metadata": {},
   "outputs": [],
   "source": [
    "x = 25\n",
    "\n",
    "def printer():\n",
    "    x = 50\n",
    "    return x"
   ]
  },
  {
   "cell_type": "code",
   "execution_count": 2,
   "id": "485708b3-b06d-4852-b034-160c42530507",
   "metadata": {},
   "outputs": [
    {
     "name": "stdout",
     "output_type": "stream",
     "text": [
      "25\n"
     ]
    }
   ],
   "source": [
    "print(x)"
   ]
  },
  {
   "cell_type": "markdown",
   "id": "8c45a49a-ed90-4d79-826a-90fc62d30f52",
   "metadata": {},
   "source": [
    "### LEGB Rule:\n",
    "#### L: Local - Names assigned in any way withing a function (def or lambda), and not declared global in function.\n",
    "#### E: Enclosing function locals - Names in the local scope of any and all enclosing functions (def or lambda), from inner to outer.\n",
    "#### G: Global (module) - Names assigned at the top-level of a module file, or declared global in a def within the file.\n",
    "#### B: Built-in (Python) - Names preassigned in the built-in names module: open, range, SyntaxError..built in key words in Python."
   ]
  },
  {
   "cell_type": "code",
   "execution_count": 4,
   "id": "145709d8-6c73-4947-88f7-0b93b1ec4fe6",
   "metadata": {},
   "outputs": [],
   "source": [
    "# lambda num:num**2"
   ]
  },
  {
   "cell_type": "code",
   "execution_count": 5,
   "id": "aa13bf7b-95b5-467d-911e-ad52065b4026",
   "metadata": {},
   "outputs": [
    {
     "name": "stdout",
     "output_type": "stream",
     "text": [
      "Hello Sammy\n"
     ]
    }
   ],
   "source": [
    "# Global Level\n",
    "name = 'THIS IS A GLOBAL STRING' \n",
    "\n",
    "def greet():\n",
    "    \n",
    "    # Enclosing\n",
    "    name = 'Sammy' \n",
    "    \n",
    "    def hello():\n",
    "        # Local\n",
    "        print('Hello '+name)\n",
    "        \n",
    "    hello()\n",
    "    \n",
    "greet()"
   ]
  },
  {
   "cell_type": "code",
   "execution_count": 10,
   "id": "d86a914e-0276-445d-8244-228cb118ad30",
   "metadata": {},
   "outputs": [],
   "source": [
    "# x = 50\n",
    "\n",
    "# def func(x):\n",
    "#    print(f'X is {x}')\n",
    "    \n",
    "    # Local Reassigment!\n",
    "#    x = 200 # This x scope is only locally in this function\n",
    "#    print(f'I JUST LOCALLY CHANGED X TO {x}')"
   ]
  },
  {
   "cell_type": "code",
   "execution_count": 11,
   "id": "6befff30-fe20-4fff-9c04-7c9563f21d43",
   "metadata": {},
   "outputs": [
    {
     "name": "stdout",
     "output_type": "stream",
     "text": [
      "X is 50\n",
      "I JUST LOCALLY CHANGED X TO 200\n"
     ]
    }
   ],
   "source": [
    "func(x)"
   ]
  },
  {
   "cell_type": "code",
   "execution_count": 12,
   "id": "13290f31-b782-4aae-9cec-ffbb25a12f27",
   "metadata": {},
   "outputs": [
    {
     "name": "stdout",
     "output_type": "stream",
     "text": [
      "50\n"
     ]
    }
   ],
   "source": [
    "print(x)"
   ]
  },
  {
   "cell_type": "code",
   "execution_count": 16,
   "id": "cec3ec4f-67bc-4a7c-ab51-ca1c70f81345",
   "metadata": {},
   "outputs": [],
   "source": [
    "# x = 50\n",
    "\n",
    "#def func():\n",
    "#   global x\n",
    "#    print(f'X is {x}') # Report on what it is\n",
    "    \n",
    "    # Local Reassigment on a Global Variable!\n",
    "#    x = 'NEW VALUE'\n",
    "#   print(f'I JUST LOCALLY CHANGED GLOBAL X TO {x}')"
   ]
  },
  {
   "cell_type": "code",
   "execution_count": 17,
   "id": "cf74578b-7868-4425-9a34-791179c107b9",
   "metadata": {},
   "outputs": [
    {
     "name": "stdout",
     "output_type": "stream",
     "text": [
      "50\n"
     ]
    }
   ],
   "source": [
    "print(x)"
   ]
  },
  {
   "cell_type": "code",
   "execution_count": 18,
   "id": "9dcb158b-c1d6-448b-bf50-68e57f4614bd",
   "metadata": {},
   "outputs": [
    {
     "name": "stdout",
     "output_type": "stream",
     "text": [
      "X is 50\n",
      "I JUST LOCALLY CHANGED GLOBAL X TO NEW VALUE\n"
     ]
    }
   ],
   "source": [
    "func()"
   ]
  },
  {
   "cell_type": "code",
   "execution_count": null,
   "id": "268319fc-820b-4fac-b7a1-326a137e692a",
   "metadata": {},
   "outputs": [],
   "source": []
  },
  {
   "cell_type": "code",
   "execution_count": 19,
   "id": "18ca76fe-ffc8-432b-b70b-a8343bd4892d",
   "metadata": {},
   "outputs": [
    {
     "name": "stdout",
     "output_type": "stream",
     "text": [
      "NEW VALUE\n"
     ]
    }
   ],
   "source": [
    "print(x)"
   ]
  },
  {
   "cell_type": "code",
   "execution_count": 20,
   "id": "40a7030a-3764-4c80-ae4a-b397056aaeda",
   "metadata": {},
   "outputs": [],
   "source": [
    "# Best not to use global as you get bigger and bigger scripts, but to assign x as the parameter\n",
    "x = 50\n",
    "\n",
    "def func(x):\n",
    "    print(f'X is {x}')\n",
    "    \n",
    "    # Local Reassigment!\n",
    "    x = 'NEW VALUE' # This x scope is only locally in this function\n",
    "    print(f'I JUST LOCALLY CHANGED X TO {x}')\n",
    "    return x"
   ]
  },
  {
   "cell_type": "code",
   "execution_count": 21,
   "id": "2d198a4c-27a4-4258-8d18-9d9249979250",
   "metadata": {},
   "outputs": [
    {
     "name": "stdout",
     "output_type": "stream",
     "text": [
      "50\n"
     ]
    }
   ],
   "source": [
    "print(x)"
   ]
  },
  {
   "cell_type": "code",
   "execution_count": 22,
   "id": "7670c180-0b0b-41d3-b356-16116abb0871",
   "metadata": {},
   "outputs": [
    {
     "name": "stdout",
     "output_type": "stream",
     "text": [
      "X is 50\n",
      "I JUST LOCALLY CHANGED X TO NEW VALUE\n"
     ]
    }
   ],
   "source": [
    "# Easier to bug if needed\n",
    "x = func(x)"
   ]
  },
  {
   "cell_type": "code",
   "execution_count": 23,
   "id": "734eb87d-cd29-41e2-8539-160c2c3a0ca6",
   "metadata": {},
   "outputs": [
    {
     "data": {
      "text/plain": [
       "'NEW VALUE'"
      ]
     },
     "execution_count": 23,
     "metadata": {},
     "output_type": "execute_result"
    }
   ],
   "source": [
    "x"
   ]
  },
  {
   "cell_type": "code",
   "execution_count": null,
   "id": "f7ace7a9-ec4e-46e2-b393-9b14035ce8ca",
   "metadata": {},
   "outputs": [],
   "source": []
  }
 ],
 "metadata": {
  "kernelspec": {
   "display_name": "Python 3",
   "language": "python",
   "name": "python3"
  },
  "language_info": {
   "codemirror_mode": {
    "name": "ipython",
    "version": 3
   },
   "file_extension": ".py",
   "mimetype": "text/x-python",
   "name": "python",
   "nbconvert_exporter": "python",
   "pygments_lexer": "ipython3",
   "version": "3.8.8"
  }
 },
 "nbformat": 4,
 "nbformat_minor": 5
}
