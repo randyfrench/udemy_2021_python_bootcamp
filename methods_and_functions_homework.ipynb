{
 "cells": [
  {
   "cell_type": "markdown",
   "id": "f9c546b8-f670-496b-905a-1906006098bf",
   "metadata": {},
   "source": [
    "### Methods and Functions Homework Overview"
   ]
  },
  {
   "cell_type": "markdown",
   "id": "ff60aae6-7cd2-40b3-9969-7e7a20541647",
   "metadata": {},
   "source": [
    "#### Write a function that computes the volume of a sphere given it radius."
   ]
  },
  {
   "cell_type": "code",
   "execution_count": 2,
   "id": "cf5f488c-efac-4b9b-a317-a1170a517013",
   "metadata": {},
   "outputs": [],
   "source": [
    "def vol(rad):\n",
    "    pass"
   ]
  },
  {
   "cell_type": "code",
   "execution_count": null,
   "id": "ef478044-cc7e-46bd-a7f8-9cd5b7a498f9",
   "metadata": {},
   "outputs": [],
   "source": [
    "# Check\n",
    "vol(2)"
   ]
  },
  {
   "cell_type": "markdown",
   "id": "6e2bb253-282f-4522-91f2-458c4b08c256",
   "metadata": {},
   "source": [
    "#### Write a function that checks whether a number is in a given range(inclusive of high or low)."
   ]
  },
  {
   "cell_type": "code",
   "execution_count": 3,
   "id": "d0ae343e-2f01-4c78-bb9e-8306658466cb",
   "metadata": {},
   "outputs": [],
   "source": [
    "def ran_check(num,low,high):\n",
    "    pass"
   ]
  },
  {
   "cell_type": "code",
   "execution_count": 4,
   "id": "d18c2cfb-bf00-4324-b307-cc5eb9c76548",
   "metadata": {},
   "outputs": [],
   "source": [
    "# Check\n",
    "ran_check(5,2,7)"
   ]
  },
  {
   "cell_type": "markdown",
   "id": "d6680fe5-92e9-4d41-80f3-45b2ef43e6d2",
   "metadata": {},
   "source": [
    "##### If you only wanted to return a boolean:"
   ]
  },
  {
   "cell_type": "code",
   "execution_count": 5,
   "id": "a940218e-ad66-4717-b122-b240f5f97bda",
   "metadata": {},
   "outputs": [],
   "source": [
    "def ran_bool(nun,low,high):\n",
    "    pass"
   ]
  },
  {
   "cell_type": "code",
   "execution_count": null,
   "id": "5747ce8c-0afd-4b8a-8fa9-bf060c37dff1",
   "metadata": {},
   "outputs": [],
   "source": [
    "# Check\n",
    "ran_bool(3,1,10)"
   ]
  }
 ],
 "metadata": {
  "kernelspec": {
   "display_name": "Python 3",
   "language": "python",
   "name": "python3"
  },
  "language_info": {
   "codemirror_mode": {
    "name": "ipython",
    "version": 3
   },
   "file_extension": ".py",
   "mimetype": "text/x-python",
   "name": "python",
   "nbconvert_exporter": "python",
   "pygments_lexer": "ipython3",
   "version": "3.8.8"
  }
 },
 "nbformat": 4,
 "nbformat_minor": 5
}
