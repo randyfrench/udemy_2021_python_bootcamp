{
 "cells": [
  {
   "cell_type": "code",
   "execution_count": null,
   "id": "b8bb80b9-9dd4-415d-8211-bd4a68a49003",
   "metadata": {},
   "outputs": [],
   "source": [
    "# Equal"
   ]
  },
  {
   "cell_type": "code",
   "execution_count": 1,
   "id": "eed6a234-c14c-4485-8510-2b01cb38d682",
   "metadata": {},
   "outputs": [
    {
     "data": {
      "text/plain": [
       "True"
      ]
     },
     "execution_count": 1,
     "metadata": {},
     "output_type": "execute_result"
    }
   ],
   "source": [
    "2 == 2"
   ]
  },
  {
   "cell_type": "code",
   "execution_count": 2,
   "id": "b9e7eea2-1fdf-431e-a878-98b25d750613",
   "metadata": {},
   "outputs": [
    {
     "data": {
      "text/plain": [
       "False"
      ]
     },
     "execution_count": 2,
     "metadata": {},
     "output_type": "execute_result"
    }
   ],
   "source": [
    "2 == 1"
   ]
  },
  {
   "cell_type": "code",
   "execution_count": 3,
   "id": "0f67815e-6e4a-4063-af08-b97096714402",
   "metadata": {},
   "outputs": [
    {
     "data": {
      "text/plain": [
       "False"
      ]
     },
     "execution_count": 3,
     "metadata": {},
     "output_type": "execute_result"
    }
   ],
   "source": [
    "'hello' == ' bye'"
   ]
  },
  {
   "cell_type": "code",
   "execution_count": 4,
   "id": "9bfc109b-7c10-4cf6-b702-3d8483e05961",
   "metadata": {},
   "outputs": [
    {
     "data": {
      "text/plain": [
       "False"
      ]
     },
     "execution_count": 4,
     "metadata": {},
     "output_type": "execute_result"
    }
   ],
   "source": [
    "'Bye' == 'bye'"
   ]
  },
  {
   "cell_type": "code",
   "execution_count": 5,
   "id": "ea1c5c6d-8727-4070-b367-27a3ce673297",
   "metadata": {},
   "outputs": [
    {
     "data": {
      "text/plain": [
       "False"
      ]
     },
     "execution_count": 5,
     "metadata": {},
     "output_type": "execute_result"
    }
   ],
   "source": [
    "'2' == 2"
   ]
  },
  {
   "cell_type": "code",
   "execution_count": 6,
   "id": "508dd70f-fc31-48e8-a5a0-96b7a37392b3",
   "metadata": {},
   "outputs": [
    {
     "data": {
      "text/plain": [
       "True"
      ]
     },
     "execution_count": 6,
     "metadata": {},
     "output_type": "execute_result"
    }
   ],
   "source": [
    "2.0 == 2"
   ]
  },
  {
   "cell_type": "code",
   "execution_count": null,
   "id": "1c80a7fb-a864-4453-b57b-e48e98d225c9",
   "metadata": {},
   "outputs": [],
   "source": [
    "# Not Equal"
   ]
  },
  {
   "cell_type": "code",
   "execution_count": 7,
   "id": "8452e083-b070-46b9-8125-2f70ea37dd39",
   "metadata": {},
   "outputs": [
    {
     "data": {
      "text/plain": [
       "False"
      ]
     },
     "execution_count": 7,
     "metadata": {},
     "output_type": "execute_result"
    }
   ],
   "source": [
    "3 != 3"
   ]
  },
  {
   "cell_type": "code",
   "execution_count": 8,
   "id": "6b8531b7-9e5f-4ddb-abfd-9e2f4a9f762a",
   "metadata": {},
   "outputs": [
    {
     "data": {
      "text/plain": [
       "True"
      ]
     },
     "execution_count": 8,
     "metadata": {},
     "output_type": "execute_result"
    }
   ],
   "source": [
    "4 != 5"
   ]
  },
  {
   "cell_type": "code",
   "execution_count": null,
   "id": "9ba77e27-9380-4dc6-9f56-499c98ef41ae",
   "metadata": {},
   "outputs": [],
   "source": [
    "# Greater Than"
   ]
  },
  {
   "cell_type": "code",
   "execution_count": 9,
   "id": "126eee5d-1f72-4e8d-9ef0-c6fec8fc1277",
   "metadata": {},
   "outputs": [
    {
     "data": {
      "text/plain": [
       "True"
      ]
     },
     "execution_count": 9,
     "metadata": {},
     "output_type": "execute_result"
    }
   ],
   "source": [
    "2 > 1"
   ]
  },
  {
   "cell_type": "code",
   "execution_count": 10,
   "id": "f3a71f08-7836-4c90-b12c-14278b6a100d",
   "metadata": {},
   "outputs": [
    {
     "data": {
      "text/plain": [
       "False"
      ]
     },
     "execution_count": 10,
     "metadata": {},
     "output_type": "execute_result"
    }
   ],
   "source": [
    "1 > 2"
   ]
  },
  {
   "cell_type": "code",
   "execution_count": null,
   "id": "cf51ec1f-9fd8-4215-ab41-f2f25e0817cc",
   "metadata": {},
   "outputs": [],
   "source": [
    "# Less Than"
   ]
  },
  {
   "cell_type": "code",
   "execution_count": 11,
   "id": "d13f0e84-4fa7-4d48-8eec-a4016aa6ffee",
   "metadata": {},
   "outputs": [
    {
     "data": {
      "text/plain": [
       "True"
      ]
     },
     "execution_count": 11,
     "metadata": {},
     "output_type": "execute_result"
    }
   ],
   "source": [
    "1 < 2"
   ]
  },
  {
   "cell_type": "code",
   "execution_count": 12,
   "id": "fcab8508-2470-4513-9e33-2792c68504d8",
   "metadata": {},
   "outputs": [
    {
     "data": {
      "text/plain": [
       "True"
      ]
     },
     "execution_count": 12,
     "metadata": {},
     "output_type": "execute_result"
    }
   ],
   "source": [
    "2 < 5"
   ]
  },
  {
   "cell_type": "code",
   "execution_count": null,
   "id": "1bbc6c47-3823-485b-94df-d2d9ce03438e",
   "metadata": {},
   "outputs": [],
   "source": [
    "# Greater Than or Equal to"
   ]
  },
  {
   "cell_type": "code",
   "execution_count": 13,
   "id": "3cde0889-5648-4eec-bf3e-ec7f444969c3",
   "metadata": {},
   "outputs": [
    {
     "data": {
      "text/plain": [
       "True"
      ]
     },
     "execution_count": 13,
     "metadata": {},
     "output_type": "execute_result"
    }
   ],
   "source": [
    "2 >= 2"
   ]
  },
  {
   "cell_type": "code",
   "execution_count": 15,
   "id": "4340f54d-ea07-49b8-a2a2-8f3982ea2e60",
   "metadata": {},
   "outputs": [
    {
     "data": {
      "text/plain": [
       "True"
      ]
     },
     "execution_count": 15,
     "metadata": {},
     "output_type": "execute_result"
    }
   ],
   "source": [
    "2 >= 1"
   ]
  },
  {
   "cell_type": "code",
   "execution_count": null,
   "id": "659f362f-97b9-4ce7-b809-442d184b0080",
   "metadata": {},
   "outputs": [],
   "source": [
    "# Less than or Equal to "
   ]
  },
  {
   "cell_type": "code",
   "execution_count": 14,
   "id": "eadde7f4-3ad5-475e-aa15-2a4e13955d2f",
   "metadata": {},
   "outputs": [
    {
     "data": {
      "text/plain": [
       "False"
      ]
     },
     "execution_count": 14,
     "metadata": {},
     "output_type": "execute_result"
    }
   ],
   "source": [
    "4 <= 1"
   ]
  },
  {
   "cell_type": "code",
   "execution_count": 16,
   "id": "2ea6b287-6db7-4a83-8516-25889836518c",
   "metadata": {},
   "outputs": [
    {
     "data": {
      "text/plain": [
       "True"
      ]
     },
     "execution_count": 16,
     "metadata": {},
     "output_type": "execute_result"
    }
   ],
   "source": [
    "2 <= 4"
   ]
  },
  {
   "cell_type": "code",
   "execution_count": null,
   "id": "1fd0c4d0-262f-494c-95e1-4127e13066de",
   "metadata": {},
   "outputs": [],
   "source": []
  }
 ],
 "metadata": {
  "kernelspec": {
   "display_name": "Python 3",
   "language": "python",
   "name": "python3"
  },
  "language_info": {
   "codemirror_mode": {
    "name": "ipython",
    "version": 3
   },
   "file_extension": ".py",
   "mimetype": "text/x-python",
   "name": "python",
   "nbconvert_exporter": "python",
   "pygments_lexer": "ipython3",
   "version": "3.8.8"
  }
 },
 "nbformat": 4,
 "nbformat_minor": 5
}
